{
 "cells": [
  {
   "cell_type": "code",
   "execution_count": 2,
   "metadata": {},
   "outputs": [],
   "source": [
    "import pickle\n",
    "import numpy as np\n",
    "from scipy import stats\n",
    "import matplotlib.pyplot as plt\n",
    "\n",
    "import osmnx as ox\n",
    "import networkx as nx"
   ]
  },
  {
   "cell_type": "code",
   "execution_count": 11,
   "metadata": {},
   "outputs": [
    {
     "name": "stdout",
     "output_type": "stream",
     "text": [
      "manhattan 63.887499999999996 64.1375\n",
      "barcelona 34.0 42.975\n"
     ]
    }
   ],
   "source": [
    "with open('../txt/intl.txt', 'r') as txt_file:\n",
    "    for line in txt_file:\n",
    "        city = line.strip().split(',')[0]\n",
    "\n",
    "        sample_num = 8000\n",
    "\n",
    "        with open(f'../result/{city}_drone_{sample_num}.pkl', 'rb') as file, \\\n",
    "            open(f'../result/{city}_simple_{sample_num}.pkl', 'rb') as file1, \\\n",
    "            open(f'../result/{city}_sq_{sample_num}.pkl', 'rb') as file2, \\\n",
    "            open(f'../result/{city}_turns_{sample_num}.pkl', 'rb') as file3:\n",
    "            drone  = pickle.load(file)\n",
    "            simple = pickle.load(file1)\n",
    "            data   = pickle.load(file2)\n",
    "            turns  = pickle.load(file3)\n",
    "\n",
    "        spd = data[:,0]\n",
    "        spt = data[:,1]\n",
    "        qpd = data[:,2]\n",
    "        qpt = data[:,3]\n",
    "\n",
    "        ratio1 = spt - qpt\n",
    "        ratio2 = qpd - spd\n",
    "\n",
    "\n",
    "        ratio1 = np.where(ratio1 > 30)\n",
    "        ratio2 = np.where(ratio2 > 1000)\n",
    "        \n",
    "        p1 = len(ratio1[0]) / sample_num * 100\n",
    "        p2 = len(ratio2[0]) / sample_num * 100\n",
    "\n",
    "        print(city, p1, p2)\n",
    "\n"
   ]
  }
 ],
 "metadata": {
  "kernelspec": {
   "display_name": "Python 3",
   "language": "python",
   "name": "python3"
  },
  "language_info": {
   "codemirror_mode": {
    "name": "ipython",
    "version": 3
   },
   "file_extension": ".py",
   "mimetype": "text/x-python",
   "name": "python",
   "nbconvert_exporter": "python",
   "pygments_lexer": "ipython3",
   "version": "3.10.12"
  }
 },
 "nbformat": 4,
 "nbformat_minor": 2
}
